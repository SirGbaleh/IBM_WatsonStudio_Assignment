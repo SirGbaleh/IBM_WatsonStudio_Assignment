{
 "cells": [
  {
   "cell_type": "markdown",
   "id": "d50dd357-94ab-4020-8418-33d799d58425",
   "metadata": {},
   "source": [
    "# Data Science Tools and Ecosystem"
   ]
  },
  {
   "cell_type": "markdown",
   "id": "d29b8bef-3c9e-4e70-bc76-6f8277f567b9",
   "metadata": {},
   "source": [
    "In this notebook, Data Science Tools and Ecosystem are summarized."
   ]
  },
  {
   "cell_type": "markdown",
   "id": "736750d2-4666-4e9f-a0c2-582492ee2540",
   "metadata": {},
   "source": [
    "Some of the popular languages that Data Scientists use are:\n",
    "1. Python\n",
    "2. R\n",
    "3. SQL\n",
    "4. Scala\n",
    "5. javaScript"
   ]
  },
  {
   "cell_type": "markdown",
   "id": "ed5bdaaf-3ede-40bf-ab7b-826ba0d60bea",
   "metadata": {},
   "source": [
    "Some of the commonly used libraries used by Data Scientists include:\n",
    "1. Numpy\n",
    "2. Pandas\n",
    "3. Matplotlib"
   ]
  },
  {
   "cell_type": "markdown",
   "id": "a08286ff-7426-4ecc-80b1-1b9a472322c8",
   "metadata": {},
   "source": [
    "| Data Science Tools |\n",
    "| ----- |\n",
    "| Apache Spark |\n",
    "| Julia |\n",
    "| IBM SPSS |\n",
    "| Keras |\n",
    "| Python |\n",
    "| SAS |\n",
    "| Scikit-learn |"
   ]
  },
  {
   "cell_type": "markdown",
   "id": "e79b16dc-a117-4843-8680-759633831430",
   "metadata": {},
   "source": [
    "### Below are a few examples of evaluating arithmetic expressions in Python"
   ]
  },
  {
   "cell_type": "code",
   "execution_count": 1,
   "id": "bf136c0a-455c-4329-ba35-751d8b3a9670",
   "metadata": {},
   "outputs": [
    {
     "data": {
      "text/plain": [
       "17"
      ]
     },
     "execution_count": 1,
     "metadata": {},
     "output_type": "execute_result"
    }
   ],
   "source": [
    "# This a simple arithmetic expression to mutiply then add integers\n",
    "(3*4)+5"
   ]
  },
  {
   "cell_type": "code",
   "execution_count": 6,
   "id": "522d99a1-04a6-4df0-9ec9-5a69904af567",
   "metadata": {},
   "outputs": [
    {
     "data": {
      "text/plain": [
       "'3 hours and 20 minutes.'"
      ]
     },
     "execution_count": 6,
     "metadata": {},
     "output_type": "execute_result"
    }
   ],
   "source": [
    "# this will convert 200 minutes to hours by diving by 60\n",
    "x = 200\n",
    "b = x // 60\n",
    "a = x % 60\n",
    "g = str(b) + ' ' + 'hours' + ' ' + 'and' + ' ' + str(a) + ' ' + 'minutes.'\n",
    "g"
   ]
  },
  {
   "cell_type": "markdown",
   "id": "11d1d565-f607-4de0-a3c4-f77b8e2733b4",
   "metadata": {},
   "source": [
    "**Objectives:**\n",
    "- List common tools used by Data Scientists.\n",
    "- List popular languages used by Data Scientists.\n",
    "- List common libraries used by Data Scientists."
   ]
  },
  {
   "cell_type": "markdown",
   "id": "4be420bc-20c0-451c-8d68-cd1adf52357c",
   "metadata": {},
   "source": [
    "## Author\n",
    "Babagbale David King"
   ]
  },
  {
   "cell_type": "code",
   "execution_count": null,
   "id": "81b13db7-6e6a-4f7d-9548-045d1dda2cd8",
   "metadata": {},
   "outputs": [],
   "source": []
  }
 ],
 "metadata": {
  "kernelspec": {
   "display_name": "Python",
   "language": "python",
   "name": "conda-env-python-py"
  },
  "language_info": {
   "codemirror_mode": {
    "name": "ipython",
    "version": 3
   },
   "file_extension": ".py",
   "mimetype": "text/x-python",
   "name": "python",
   "nbconvert_exporter": "python",
   "pygments_lexer": "ipython3",
   "version": "3.7.12"
  }
 },
 "nbformat": 4,
 "nbformat_minor": 5
}
